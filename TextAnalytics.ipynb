{
 "cells": [
  {
   "cell_type": "code",
   "execution_count": 5,
   "metadata": {},
   "outputs": [],
   "source": [
    "import numpy as np  # linear algebra\n",
    "import pandas as pd # data processing, CSV file I/O (e.g. pd.read_csv)\n",
    "import matplotlib.pyplot as plt  #generating graphs"
   ]
  },
  {
   "cell_type": "code",
   "execution_count": 10,
   "metadata": {},
   "outputs": [],
   "source": [
    "#Importing DataSet \n",
    "dataset = pd.read_csv(\"./Requirements Dataset.csv\")\n"
   ]
  },
  {
   "cell_type": "code",
   "execution_count": 11,
   "metadata": {},
   "outputs": [
    {
     "data": {
      "text/html": [
       "<div>\n",
       "<style scoped>\n",
       "    .dataframe tbody tr th:only-of-type {\n",
       "        vertical-align: middle;\n",
       "    }\n",
       "\n",
       "    .dataframe tbody tr th {\n",
       "        vertical-align: top;\n",
       "    }\n",
       "\n",
       "    .dataframe thead th {\n",
       "        text-align: right;\n",
       "    }\n",
       "</style>\n",
       "<table border=\"1\" class=\"dataframe\">\n",
       "  <thead>\n",
       "    <tr style=\"text-align: right;\">\n",
       "      <th></th>\n",
       "      <th>Topic</th>\n",
       "      <th>Functional Requirements</th>\n",
       "      <th>Nonfunctional Requirements</th>\n",
       "      <th>User Interface Requirements</th>\n",
       "      <th>Expected Results</th>\n",
       "      <th>Algorithms</th>\n",
       "      <th>Dataset</th>\n",
       "      <th>Programming Language used</th>\n",
       "      <th>Tools used</th>\n",
       "    </tr>\n",
       "  </thead>\n",
       "  <tbody>\n",
       "    <tr>\n",
       "      <th>0</th>\n",
       "      <td>House Price Prediction</td>\n",
       "      <td>This application is based on machine learning\\...</td>\n",
       "      <td>The performance of the application is quite go...</td>\n",
       "      <td>The user needs to enter the required informati...</td>\n",
       "      <td>Estimated appropriate price of a house based o...</td>\n",
       "      <td>Linear Regression for multiple variables</td>\n",
       "      <td>House dataset</td>\n",
       "      <td>MATLAB</td>\n",
       "      <td>MATLAB</td>\n",
       "    </tr>\n",
       "    <tr>\n",
       "      <th>1</th>\n",
       "      <td>Anomaly Detection In Ship Trajectory</td>\n",
       "      <td>The algorithm should be able to predict the an...</td>\n",
       "      <td>The algorithm should be time efficient i.e. it...</td>\n",
       "      <td>NaN</td>\n",
       "      <td>As an output of an anomaly detection algorithm...</td>\n",
       "      <td>SVM and KNN</td>\n",
       "      <td>Latitude, Longitude and Anomaly</td>\n",
       "      <td>R</td>\n",
       "      <td>RStudio</td>\n",
       "    </tr>\n",
       "    <tr>\n",
       "      <th>2</th>\n",
       "      <td>Hand written digits recognition</td>\n",
       "      <td>Consistent performance for minute and bulk data.</td>\n",
       "      <td>Fast recovery from errors.\\nAvailability.</td>\n",
       "      <td>MATLAB</td>\n",
       "      <td>Should recognise various styles of digits.</td>\n",
       "      <td>KNN</td>\n",
       "      <td>UCI</td>\n",
       "      <td>MATLAB</td>\n",
       "      <td>MATLAB</td>\n",
       "    </tr>\n",
       "    <tr>\n",
       "      <th>3</th>\n",
       "      <td>Social Network Ads</td>\n",
       "      <td>K-nearest neighbour algorithm is used.\\nDatase...</td>\n",
       "      <td>Availability- As far as the datasets are avail...</td>\n",
       "      <td>Console</td>\n",
       "      <td>A plot with number of user buying a product ,w...</td>\n",
       "      <td>K-Nearest Neighbour</td>\n",
       "      <td>Social Network Ads</td>\n",
       "      <td>R Script</td>\n",
       "      <td>R studio</td>\n",
       "    </tr>\n",
       "    <tr>\n",
       "      <th>4</th>\n",
       "      <td>music classification based on lyrics</td>\n",
       "      <td>Hardware:\\nIntel core processor i3\\n4GB RAM\\n\\...</td>\n",
       "      <td>Performance: Response within a second.\\nOpenne...</td>\n",
       "      <td>NaN</td>\n",
       "      <td>The word cloud visualizations of the most freq...</td>\n",
       "      <td>naive bayes</td>\n",
       "      <td>millions sets of songs</td>\n",
       "      <td>python</td>\n",
       "      <td>idle</td>\n",
       "    </tr>\n",
       "  </tbody>\n",
       "</table>\n",
       "</div>"
      ],
      "text/plain": [
       "                                  Topic  \\\n",
       "0                House Price Prediction   \n",
       "1  Anomaly Detection In Ship Trajectory   \n",
       "2       Hand written digits recognition   \n",
       "3                    Social Network Ads   \n",
       "4  music classification based on lyrics   \n",
       "\n",
       "                             Functional Requirements  \\\n",
       "0  This application is based on machine learning\\...   \n",
       "1  The algorithm should be able to predict the an...   \n",
       "2   Consistent performance for minute and bulk data.   \n",
       "3  K-nearest neighbour algorithm is used.\\nDatase...   \n",
       "4  Hardware:\\nIntel core processor i3\\n4GB RAM\\n\\...   \n",
       "\n",
       "                          Nonfunctional Requirements  \\\n",
       "0  The performance of the application is quite go...   \n",
       "1  The algorithm should be time efficient i.e. it...   \n",
       "2          Fast recovery from errors.\\nAvailability.   \n",
       "3  Availability- As far as the datasets are avail...   \n",
       "4  Performance: Response within a second.\\nOpenne...   \n",
       "\n",
       "                         User Interface Requirements  \\\n",
       "0  The user needs to enter the required informati...   \n",
       "1                                                NaN   \n",
       "2                                             MATLAB   \n",
       "3                                            Console   \n",
       "4                                                NaN   \n",
       "\n",
       "                                    Expected Results  \\\n",
       "0  Estimated appropriate price of a house based o...   \n",
       "1  As an output of an anomaly detection algorithm...   \n",
       "2         Should recognise various styles of digits.   \n",
       "3  A plot with number of user buying a product ,w...   \n",
       "4  The word cloud visualizations of the most freq...   \n",
       "\n",
       "                                 Algorithms                          Dataset  \\\n",
       "0  Linear Regression for multiple variables                    House dataset   \n",
       "1                               SVM and KNN  Latitude, Longitude and Anomaly   \n",
       "2                                       KNN                              UCI   \n",
       "3                       K-Nearest Neighbour               Social Network Ads   \n",
       "4                               naive bayes           millions sets of songs   \n",
       "\n",
       "  Programming Language used Tools used  \n",
       "0                    MATLAB     MATLAB  \n",
       "1                         R    RStudio  \n",
       "2                    MATLAB     MATLAB  \n",
       "3                  R Script   R studio  \n",
       "4                    python       idle  "
      ]
     },
     "execution_count": 11,
     "metadata": {},
     "output_type": "execute_result"
    }
   ],
   "source": [
    "dataset.head()"
   ]
  },
  {
   "cell_type": "code",
   "execution_count": 13,
   "metadata": {},
   "outputs": [
    {
     "data": {
      "text/plain": [
       "0                                House Price Prediction\n",
       "1                  Anomaly Detection In Ship Trajectory\n",
       "2                       Hand written digits recognition\n",
       "3                                    Social Network Ads\n",
       "4                  music classification based on lyrics\n",
       "5                               Stock Market Prediction\n",
       "6             Optical recognition of handwritten digits\n",
       "7                              Diabetes Risk Prediction\n",
       "8                      Stock Price prediction using Knn\n",
       "9                 NLP -BASED ARTIFICIAL INTELLIGENT BOT\n",
       "10              NLP- Based Artificially Intelligent Bot\n",
       "11                                 Precting stock price\n",
       "12                               Traffic Sign Detection\n",
       "13                               Predicting House Price\n",
       "14                            Number Plate Verification\n",
       "15                       FACE DETECTION AND RECOGNITION\n",
       "16                                          Face Detect\n",
       "17                                  Chatbot for College\n",
       "18                                      Face Detection \n",
       "19                   Opinion Mining of Customer Reviews\n",
       "20                     Handwritten digit classification\n",
       "21                   Sentiment Analysis of textual data\n",
       "22                            Licence plate recognition\n",
       "23                          FACE DECTION IN GIVEN IMAGE\n",
       "24                          credit card fraud detection\n",
       "25    Image Classification using Convolutional Neura...\n",
       "26                Feature Selection in Machine Learning\n",
       "27         Real-Time Sentiment Analysis of Twitter Data\n",
       "28                             Diabetes Risk Prediction\n",
       "29                  Sentiment Analysis on text(Twitter)\n",
       "30                                    Digit Recognition\n",
       "31                          Movie recommendation system\n",
       "32                 Anomaly Detection In Ship Trajectory\n",
       "33                              Flight Delay Prediction\n",
       "34                                       Face detection\n",
       "35                         IMDB Movie Rating Prediction\n",
       "36                                  Rainfall Prediction\n",
       "37                                  Crime Data Analysis\n",
       "38                 Rcommendation of Top Reviewed Movies\n",
       "39                       Exploring Crafts Beer with KNN\n",
       "40                RECOMMENDATION OF TOP REVIEWED MOVIES\n",
       "41                         TOXIC COMMENT CLASSIFICATION\n",
       "42      Fake currency detection using Image Processing.\n",
       "Name: Topic, dtype: object"
      ]
     },
     "execution_count": 13,
     "metadata": {},
     "output_type": "execute_result"
    }
   ],
   "source": [
    "dataset['Topic']\n"
   ]
  },
  {
   "cell_type": "code",
   "execution_count": 16,
   "metadata": {},
   "outputs": [
    {
     "data": {
      "text/html": [
       "<div>\n",
       "<style scoped>\n",
       "    .dataframe tbody tr th:only-of-type {\n",
       "        vertical-align: middle;\n",
       "    }\n",
       "\n",
       "    .dataframe tbody tr th {\n",
       "        vertical-align: top;\n",
       "    }\n",
       "\n",
       "    .dataframe thead th {\n",
       "        text-align: right;\n",
       "    }\n",
       "</style>\n",
       "<table border=\"1\" class=\"dataframe\">\n",
       "  <thead>\n",
       "    <tr style=\"text-align: right;\">\n",
       "      <th></th>\n",
       "      <th>Topic</th>\n",
       "      <th>Algorithms</th>\n",
       "    </tr>\n",
       "  </thead>\n",
       "  <tbody>\n",
       "    <tr>\n",
       "      <th>0</th>\n",
       "      <td>House Price Prediction</td>\n",
       "      <td>Linear Regression for multiple variables</td>\n",
       "    </tr>\n",
       "    <tr>\n",
       "      <th>1</th>\n",
       "      <td>Anomaly Detection In Ship Trajectory</td>\n",
       "      <td>SVM and KNN</td>\n",
       "    </tr>\n",
       "    <tr>\n",
       "      <th>2</th>\n",
       "      <td>Hand written digits recognition</td>\n",
       "      <td>KNN</td>\n",
       "    </tr>\n",
       "    <tr>\n",
       "      <th>3</th>\n",
       "      <td>Social Network Ads</td>\n",
       "      <td>K-Nearest Neighbour</td>\n",
       "    </tr>\n",
       "    <tr>\n",
       "      <th>4</th>\n",
       "      <td>music classification based on lyrics</td>\n",
       "      <td>naive bayes</td>\n",
       "    </tr>\n",
       "    <tr>\n",
       "      <th>5</th>\n",
       "      <td>Stock Market Prediction</td>\n",
       "      <td>Neural Network</td>\n",
       "    </tr>\n",
       "    <tr>\n",
       "      <th>6</th>\n",
       "      <td>Optical recognition of handwritten digits</td>\n",
       "      <td>K nearest neighbor algorithm</td>\n",
       "    </tr>\n",
       "    <tr>\n",
       "      <th>7</th>\n",
       "      <td>Diabetes Risk Prediction</td>\n",
       "      <td>Naive Bayes</td>\n",
       "    </tr>\n",
       "    <tr>\n",
       "      <th>8</th>\n",
       "      <td>Stock Price prediction using Knn</td>\n",
       "      <td>K nearest neighbour Algorithm</td>\n",
       "    </tr>\n",
       "    <tr>\n",
       "      <th>9</th>\n",
       "      <td>NLP -BASED ARTIFICIAL INTELLIGENT BOT</td>\n",
       "      <td>Neural networks</td>\n",
       "    </tr>\n",
       "    <tr>\n",
       "      <th>10</th>\n",
       "      <td>NLP- Based Artificially Intelligent Bot</td>\n",
       "      <td>Neural Network</td>\n",
       "    </tr>\n",
       "    <tr>\n",
       "      <th>11</th>\n",
       "      <td>Precting stock price</td>\n",
       "      <td>Linear regression</td>\n",
       "    </tr>\n",
       "    <tr>\n",
       "      <th>12</th>\n",
       "      <td>Traffic Sign Detection</td>\n",
       "      <td>OpenCV ORB</td>\n",
       "    </tr>\n",
       "    <tr>\n",
       "      <th>13</th>\n",
       "      <td>Predicting House Price</td>\n",
       "      <td>Neural Networks, Lasso Regression</td>\n",
       "    </tr>\n",
       "    <tr>\n",
       "      <th>14</th>\n",
       "      <td>Number Plate Verification</td>\n",
       "      <td>Optical character Recognition Algorithm</td>\n",
       "    </tr>\n",
       "    <tr>\n",
       "      <th>15</th>\n",
       "      <td>FACE DETECTION AND RECOGNITION</td>\n",
       "      <td>LBPH (Local Binary Pattern Histogram)</td>\n",
       "    </tr>\n",
       "    <tr>\n",
       "      <th>16</th>\n",
       "      <td>Face Detect</td>\n",
       "      <td>Adaboost and Haar cascade classifiers</td>\n",
       "    </tr>\n",
       "    <tr>\n",
       "      <th>17</th>\n",
       "      <td>Chatbot for College</td>\n",
       "      <td>Naive Bayes Classifier</td>\n",
       "    </tr>\n",
       "    <tr>\n",
       "      <th>18</th>\n",
       "      <td>Face Detection</td>\n",
       "      <td>OpenCV ORB</td>\n",
       "    </tr>\n",
       "    <tr>\n",
       "      <th>19</th>\n",
       "      <td>Opinion Mining of Customer Reviews</td>\n",
       "      <td>SVM algorithm</td>\n",
       "    </tr>\n",
       "    <tr>\n",
       "      <th>20</th>\n",
       "      <td>Handwritten digit classification</td>\n",
       "      <td>Back propagation Algorithm</td>\n",
       "    </tr>\n",
       "    <tr>\n",
       "      <th>21</th>\n",
       "      <td>Sentiment Analysis of textual data</td>\n",
       "      <td>get_nrc_sentiment\\nnaive bayes</td>\n",
       "    </tr>\n",
       "    <tr>\n",
       "      <th>22</th>\n",
       "      <td>Licence plate recognition</td>\n",
       "      <td>Fast Algorithm</td>\n",
       "    </tr>\n",
       "    <tr>\n",
       "      <th>23</th>\n",
       "      <td>FACE DECTION IN GIVEN IMAGE</td>\n",
       "      <td>Viola-Jones</td>\n",
       "    </tr>\n",
       "    <tr>\n",
       "      <th>24</th>\n",
       "      <td>credit card fraud detection</td>\n",
       "      <td>classification</td>\n",
       "    </tr>\n",
       "    <tr>\n",
       "      <th>25</th>\n",
       "      <td>Image Classification using Convolutional Neura...</td>\n",
       "      <td>Deep Learning Algorithms</td>\n",
       "    </tr>\n",
       "    <tr>\n",
       "      <th>26</th>\n",
       "      <td>Feature Selection in Machine Learning</td>\n",
       "      <td>Random Forest, Recursive Feature Elimination, ...</td>\n",
       "    </tr>\n",
       "    <tr>\n",
       "      <th>27</th>\n",
       "      <td>Real-Time Sentiment Analysis of Twitter Data</td>\n",
       "      <td>Natural Language Processing</td>\n",
       "    </tr>\n",
       "    <tr>\n",
       "      <th>28</th>\n",
       "      <td>Diabetes Risk Prediction</td>\n",
       "      <td>Naive Bayes</td>\n",
       "    </tr>\n",
       "    <tr>\n",
       "      <th>29</th>\n",
       "      <td>Sentiment Analysis on text(Twitter)</td>\n",
       "      <td>Natural Language Proccessing -&gt; Naive Bayes, D...</td>\n",
       "    </tr>\n",
       "    <tr>\n",
       "      <th>30</th>\n",
       "      <td>Digit Recognition</td>\n",
       "      <td>Neural Network, Support Vector Machine, K-Near...</td>\n",
       "    </tr>\n",
       "    <tr>\n",
       "      <th>31</th>\n",
       "      <td>Movie recommendation system</td>\n",
       "      <td>K-nearest algorithm &amp; collaborative filtering</td>\n",
       "    </tr>\n",
       "    <tr>\n",
       "      <th>32</th>\n",
       "      <td>Anomaly Detection In Ship Trajectory</td>\n",
       "      <td>k nearest neighbor, Support Vector Machine and...</td>\n",
       "    </tr>\n",
       "    <tr>\n",
       "      <th>33</th>\n",
       "      <td>Flight Delay Prediction</td>\n",
       "      <td>Naive Bayes, Random Forest and K-map</td>\n",
       "    </tr>\n",
       "    <tr>\n",
       "      <th>34</th>\n",
       "      <td>Face detection</td>\n",
       "      <td>Viola John's algorithm</td>\n",
       "    </tr>\n",
       "    <tr>\n",
       "      <th>35</th>\n",
       "      <td>IMDB Movie Rating Prediction</td>\n",
       "      <td>Support Vector Machine(SVM) Algorithm</td>\n",
       "    </tr>\n",
       "    <tr>\n",
       "      <th>36</th>\n",
       "      <td>Rainfall Prediction</td>\n",
       "      <td>Simple Linear Regression</td>\n",
       "    </tr>\n",
       "    <tr>\n",
       "      <th>37</th>\n",
       "      <td>Crime Data Analysis</td>\n",
       "      <td>Cluster</td>\n",
       "    </tr>\n",
       "    <tr>\n",
       "      <th>38</th>\n",
       "      <td>Rcommendation of Top Reviewed Movies</td>\n",
       "      <td>Random Forest Algorithm, Decision trees Algori...</td>\n",
       "    </tr>\n",
       "    <tr>\n",
       "      <th>39</th>\n",
       "      <td>Exploring Crafts Beer with KNN</td>\n",
       "      <td>KNN</td>\n",
       "    </tr>\n",
       "    <tr>\n",
       "      <th>40</th>\n",
       "      <td>RECOMMENDATION OF TOP REVIEWED MOVIES</td>\n",
       "      <td>Random forest and Decision trees algorithm</td>\n",
       "    </tr>\n",
       "    <tr>\n",
       "      <th>41</th>\n",
       "      <td>TOXIC COMMENT CLASSIFICATION</td>\n",
       "      <td>CART</td>\n",
       "    </tr>\n",
       "    <tr>\n",
       "      <th>42</th>\n",
       "      <td>Fake currency detection using Image Processing.</td>\n",
       "      <td>Segmentation algorithm</td>\n",
       "    </tr>\n",
       "  </tbody>\n",
       "</table>\n",
       "</div>"
      ],
      "text/plain": [
       "                                                Topic  \\\n",
       "0                              House Price Prediction   \n",
       "1                Anomaly Detection In Ship Trajectory   \n",
       "2                     Hand written digits recognition   \n",
       "3                                  Social Network Ads   \n",
       "4                music classification based on lyrics   \n",
       "5                             Stock Market Prediction   \n",
       "6           Optical recognition of handwritten digits   \n",
       "7                            Diabetes Risk Prediction   \n",
       "8                    Stock Price prediction using Knn   \n",
       "9               NLP -BASED ARTIFICIAL INTELLIGENT BOT   \n",
       "10            NLP- Based Artificially Intelligent Bot   \n",
       "11                               Precting stock price   \n",
       "12                             Traffic Sign Detection   \n",
       "13                             Predicting House Price   \n",
       "14                          Number Plate Verification   \n",
       "15                     FACE DETECTION AND RECOGNITION   \n",
       "16                                        Face Detect   \n",
       "17                                Chatbot for College   \n",
       "18                                    Face Detection    \n",
       "19                 Opinion Mining of Customer Reviews   \n",
       "20                   Handwritten digit classification   \n",
       "21                 Sentiment Analysis of textual data   \n",
       "22                          Licence plate recognition   \n",
       "23                        FACE DECTION IN GIVEN IMAGE   \n",
       "24                        credit card fraud detection   \n",
       "25  Image Classification using Convolutional Neura...   \n",
       "26              Feature Selection in Machine Learning   \n",
       "27       Real-Time Sentiment Analysis of Twitter Data   \n",
       "28                           Diabetes Risk Prediction   \n",
       "29                Sentiment Analysis on text(Twitter)   \n",
       "30                                  Digit Recognition   \n",
       "31                        Movie recommendation system   \n",
       "32               Anomaly Detection In Ship Trajectory   \n",
       "33                            Flight Delay Prediction   \n",
       "34                                     Face detection   \n",
       "35                       IMDB Movie Rating Prediction   \n",
       "36                                Rainfall Prediction   \n",
       "37                                Crime Data Analysis   \n",
       "38               Rcommendation of Top Reviewed Movies   \n",
       "39                     Exploring Crafts Beer with KNN   \n",
       "40              RECOMMENDATION OF TOP REVIEWED MOVIES   \n",
       "41                       TOXIC COMMENT CLASSIFICATION   \n",
       "42    Fake currency detection using Image Processing.   \n",
       "\n",
       "                                           Algorithms  \n",
       "0            Linear Regression for multiple variables  \n",
       "1                                         SVM and KNN  \n",
       "2                                                 KNN  \n",
       "3                                 K-Nearest Neighbour  \n",
       "4                                         naive bayes  \n",
       "5                                      Neural Network  \n",
       "6                        K nearest neighbor algorithm  \n",
       "7                                         Naive Bayes  \n",
       "8                       K nearest neighbour Algorithm  \n",
       "9                                     Neural networks  \n",
       "10                                     Neural Network  \n",
       "11                                  Linear regression  \n",
       "12                                         OpenCV ORB  \n",
       "13                  Neural Networks, Lasso Regression  \n",
       "14            Optical character Recognition Algorithm  \n",
       "15              LBPH (Local Binary Pattern Histogram)  \n",
       "16              Adaboost and Haar cascade classifiers  \n",
       "17                             Naive Bayes Classifier  \n",
       "18                                         OpenCV ORB  \n",
       "19                                      SVM algorithm  \n",
       "20                         Back propagation Algorithm  \n",
       "21                     get_nrc_sentiment\\nnaive bayes  \n",
       "22                                     Fast Algorithm  \n",
       "23                                        Viola-Jones  \n",
       "24                                    classification   \n",
       "25                           Deep Learning Algorithms  \n",
       "26  Random Forest, Recursive Feature Elimination, ...  \n",
       "27                        Natural Language Processing  \n",
       "28                                        Naive Bayes  \n",
       "29  Natural Language Proccessing -> Naive Bayes, D...  \n",
       "30  Neural Network, Support Vector Machine, K-Near...  \n",
       "31      K-nearest algorithm & collaborative filtering  \n",
       "32  k nearest neighbor, Support Vector Machine and...  \n",
       "33               Naive Bayes, Random Forest and K-map  \n",
       "34                             Viola John's algorithm  \n",
       "35              Support Vector Machine(SVM) Algorithm  \n",
       "36                           Simple Linear Regression  \n",
       "37                                            Cluster  \n",
       "38  Random Forest Algorithm, Decision trees Algori...  \n",
       "39                                                KNN  \n",
       "40         Random forest and Decision trees algorithm  \n",
       "41                                               CART  \n",
       "42                             Segmentation algorithm  "
      ]
     },
     "execution_count": 16,
     "metadata": {},
     "output_type": "execute_result"
    }
   ],
   "source": [
    "dataset[['Topic', 'Algorithms']]\n",
    "\n"
   ]
  },
  {
   "cell_type": "code",
   "execution_count": 14,
   "metadata": {},
   "outputs": [
    {
     "data": {
      "text/plain": [
       "Naive Bayes                                                                      2\n",
       "OpenCV ORB                                                                       2\n",
       "KNN                                                                              2\n",
       "Neural Network                                                                   2\n",
       "classification                                                                   1\n",
       "Viola-Jones                                                                      1\n",
       "Neural networks                                                                  1\n",
       "SVM algorithm                                                                    1\n",
       "Naive Bayes, Random Forest and K-map                                             1\n",
       "k nearest neighbor, Support Vector Machine and Neural Networks                   1\n",
       "CART                                                                             1\n",
       "get_nrc_sentiment\\nnaive bayes                                                   1\n",
       "K-nearest algorithm & collaborative filtering                                    1\n",
       "Naive Bayes Classifier                                                           1\n",
       "LBPH (Local Binary Pattern Histogram)                                            1\n",
       "Viola John's algorithm                                                           1\n",
       "Random Forest Algorithm, Decision trees Algorithm                                1\n",
       "Back propagation Algorithm                                                       1\n",
       "Natural Language Proccessing -> Naive Bayes, Decision trees.                     1\n",
       "K nearest neighbour Algorithm                                                    1\n",
       "Cluster                                                                          1\n",
       "K nearest neighbor algorithm                                                     1\n",
       "Natural Language Processing                                                      1\n",
       "Linear Regression for multiple variables                                         1\n",
       "SVM and KNN                                                                      1\n",
       "Optical character Recognition Algorithm                                          1\n",
       "Neural Network, Support Vector Machine, K-Nearest Neighbour                      1\n",
       "Segmentation algorithm                                                           1\n",
       "Simple Linear Regression                                                         1\n",
       "Deep Learning Algorithms                                                         1\n",
       "Neural Networks, Lasso Regression                                                1\n",
       "Support Vector Machine(SVM) Algorithm                                            1\n",
       "Adaboost and Haar cascade classifiers                                            1\n",
       "Random forest and Decision trees algorithm                                       1\n",
       "K-Nearest Neighbour                                                              1\n",
       "Linear regression                                                                1\n",
       "Fast Algorithm                                                                   1\n",
       "Random Forest, Recursive Feature Elimination, Genetic Algorithm, Corrlelation    1\n",
       "naive bayes                                                                      1\n",
       "Name: Algorithms, dtype: int64"
      ]
     },
     "execution_count": 14,
     "metadata": {},
     "output_type": "execute_result"
    }
   ],
   "source": [
    "dataset['Algorithms'].value_counts()"
   ]
  },
  {
   "cell_type": "code",
   "execution_count": 19,
   "metadata": {},
   "outputs": [
    {
     "data": {
      "text/plain": [
       "R studio                                         4\n",
       "R Studio                                         3\n",
       "Anaconda                                         2\n",
       "MATLAB                                           2\n",
       "Python 2.7                                       2\n",
       "Matlab                                           2\n",
       "Pycharm community 2018                           1\n",
       "RStudio                                          1\n",
       "RSI                                              1\n",
       "Scikit-learn                                     1\n",
       "numpy, opencv                                    1\n",
       "Tensorflow                                       1\n",
       "Android Studio                                   1\n",
       "octave                                           1\n",
       "matlab                                           1\n",
       "idle                                             1\n",
       "Flask (Python Web Framework), Pycharm IDE        1\n",
       "Matlab R2013a                                    1\n",
       "R                                                1\n",
       "R and R Studio                                   1\n",
       "Pycharm                                          1\n",
       "Android studio and dialogue flow                 1\n",
       "Ipython                                          1\n",
       "R-STUDIO                                         1\n",
       "R Studio, EBImage packages, Shiny Application    1\n",
       "Rstudio                                          1\n",
       "Anaconda 5.1,Python,Twitter                      1\n",
       "TextBlob , Tweepy , Twitter Developer's API      1\n",
       "MATLAB \\nWindows 10                              1\n",
       "Anaconda, openCV, Python IDLE                    1\n",
       "R-tool                                           1\n",
       "R, R studio                                      1\n",
       "OpenCV, numpy                                    1\n",
       "python 5                                         1\n",
       "Name: Tools used, dtype: int64"
      ]
     },
     "execution_count": 19,
     "metadata": {},
     "output_type": "execute_result"
    }
   ],
   "source": [
    "dataset['Tools used'].value_counts()\n"
   ]
  },
  {
   "cell_type": "code",
   "execution_count": 16,
   "metadata": {},
   "outputs": [],
   "source": [
    "d=dataset['Programming Language used'].value_counts()\n",
    "\n"
   ]
  },
  {
   "cell_type": "code",
   "execution_count": 17,
   "metadata": {},
   "outputs": [
    {
     "data": {
      "text/plain": [
       "<matplotlib.axes._subplots.AxesSubplot at 0x7f58af16df98>"
      ]
     },
     "execution_count": 17,
     "metadata": {},
     "output_type": "execute_result"
    },
    {
     "data": {
      "image/png": "[encoded data removed]",
      "text/plain": [
       "<Figure size 432x288 with 1 Axes>"
      ]
     },
     "metadata": {
      "needs_background": "light"
     },
     "output_type": "display_data"
    }
   ],
   "source": [
    "d[:10].plot(kind='bar')\n"
   ]
  },
  {
   "cell_type": "code",
   "execution_count": 18,
   "metadata": {},
   "outputs": [
    {
     "data": {
      "text/plain": [
       "<matplotlib.axes._subplots.AxesSubplot at 0x7f58af085eb8>"
      ]
     },
     "execution_count": 18,
     "metadata": {},
     "output_type": "execute_result"
    },
    {
     "data": {
      "image/png": "[encoded data removed]",
      "text/plain": [
       "<Figure size 432x288 with 1 Axes>"
      ]
     },
     "metadata": {
      "needs_background": "light"
     },
     "output_type": "display_data"
    }
   ],
   "source": [
    "d[:10].plot(kind='line')\n"
   ]
  },
  {
   "cell_type": "code",
   "execution_count": 19,
   "metadata": {},
   "outputs": [
    {
     "data": {
      "text/plain": [
       "<matplotlib.axes._subplots.AxesSubplot at 0x7f58ad060da0>"
      ]
     },
     "execution_count": 19,
     "metadata": {},
     "output_type": "execute_result"
    },
    {
     "data": {
      "image/png": "[encoded data removed]",
      "text/plain": [
       "<Figure size 432x288 with 1 Axes>"
      ]
     },
     "metadata": {},
     "output_type": "display_data"
    }
   ],
   "source": [
    "d[:10].plot(kind='pie')\n"
   ]
  },
  {
   "cell_type": "code",
   "execution_count": 21,
   "metadata": {},
   "outputs": [
    {
     "data": {
      "image/png": "[encoded data removed]",
      "text/plain": [
       "<Figure size 432x288 with 1 Axes>"
      ]
     },
     "metadata": {},
     "output_type": "display_data"
    }
   ],
   "source": [
    "import  matplotlib.pyplot as plt1\n",
    "labels=dataset['Tools used'][1:5]\n",
    "sizes=dataset['Algorithms'].value_counts()[1:5]\n",
    "colors=['yellowgreen','red','gold','blue']\n",
    "patches, texts=plt.pie(sizes,colors=colors,shadow=True, startangle=90)\n",
    "plt1.legend(patches,labels,loc=\"best\")\n",
    "plt1.axis('equal')\n",
    "plt1.tight_layout()\n",
    "plt1.show()"
   ]
  },
  {
   "cell_type": "code",
   "execution_count": 22,
   "metadata": {},
   "outputs": [],
   "source": [
    "a=np.sort(dataset['Topic'])[1:5]"
   ]
  },
  {
   "cell_type": "code",
   "execution_count": 23,
   "metadata": {},
   "outputs": [
    {
     "name": "stdout",
     "output_type": "stream",
     "text": [
      "['Anomaly Detection In Ship Trajectory' 'Chatbot for College'\n",
      " 'Crime Data Analysis' 'Diabetes Risk Prediction']\n"
     ]
    }
   ],
   "source": [
    "print(a)"
   ]
  },
  {
   "cell_type": "code",
   "execution_count": 24,
   "metadata": {},
   "outputs": [],
   "source": [
    "a=np.sort(dataset['Programming Language used'])[1:9]"
   ]
  },
  {
   "cell_type": "code",
   "execution_count": 25,
   "metadata": {},
   "outputs": [
    {
     "name": "stdout",
     "output_type": "stream",
     "text": [
      "['Android and Artificial Intelligence Markup Language' 'C,python' 'MATLAB'\n",
      " 'MATLAB' 'Machine Learning' 'Matlab' 'Matlab' 'Python']\n"
     ]
    }
   ],
   "source": [
    "print(a)\n"
   ]
  },
  {
   "cell_type": "code",
   "execution_count": 26,
   "metadata": {},
   "outputs": [],
   "source": [
    "a=np.sort(dataset['Programming Language used'])"
   ]
  },
  {
   "cell_type": "code",
   "execution_count": 38,
   "metadata": {},
   "outputs": [
    {
     "name": "stdout",
     "output_type": "stream",
     "text": [
      "['Android and AIML' 'Android and Artificial Intelligence Markup Language'\n",
      " 'C,python' 'MATLAB' 'MATLAB' 'Machine Learning' 'Matlab' 'Matlab'\n",
      " 'Python' 'Python' 'Python' 'Python' 'Python' 'Python' 'Python' 'Python'\n",
      " 'Python' 'Python' 'Python' 'Python' 'Python' 'Python\\nR studio'\n",
      " 'Python language' 'Python, HTML5, CSS3' 'R' 'R' 'R' 'R' 'R' 'R' 'R' 'R'\n",
      " 'R Programming ' 'R Programming Language' 'R Script' 'R program'\n",
      " 'R programming' 'R programming' 'R programming language' 'matlab'\n",
      " 'python' 'python' 'python']\n"
     ]
    }
   ],
   "source": [
    "print(a)"
   ]
  },
  {
   "cell_type": "code",
   "execution_count": 41,
   "metadata": {},
   "outputs": [],
   "source": [
    "a=np.sort(dataset['Tools used'])"
   ]
  },
  {
   "cell_type": "code",
   "execution_count": 27,
   "metadata": {},
   "outputs": [
    {
     "name": "stdout",
     "output_type": "stream",
     "text": [
      "['Android and AIML' 'Android and Artificial Intelligence Markup Language'\n",
      " 'C,python' 'MATLAB' 'MATLAB' 'Machine Learning' 'Matlab' 'Matlab'\n",
      " 'Python' 'Python' 'Python' 'Python' 'Python' 'Python' 'Python' 'Python'\n",
      " 'Python' 'Python' 'Python' 'Python' 'Python' 'Python\\nR studio'\n",
      " 'Python language' 'Python, HTML5, CSS3' 'R' 'R' 'R' 'R' 'R' 'R' 'R' 'R'\n",
      " 'R Programming ' 'R Programming Language' 'R Script' 'R program'\n",
      " 'R programming' 'R programming' 'R programming language' 'matlab'\n",
      " 'python' 'python' 'python']\n"
     ]
    }
   ],
   "source": [
    "print(a)"
   ]
  },
  {
   "cell_type": "code",
   "execution_count": 28,
   "metadata": {},
   "outputs": [],
   "source": [
    "a=np.sort(dataset['Algorithms'])"
   ]
  },
  {
   "cell_type": "code",
   "execution_count": 29,
   "metadata": {},
   "outputs": [
    {
     "name": "stdout",
     "output_type": "stream",
     "text": [
      "['Adaboost and Haar cascade classifiers' 'Back propagation Algorithm'\n",
      " 'CART' 'Cluster' 'Deep Learning Algorithms' 'Fast Algorithm'\n",
      " 'K nearest neighbor algorithm' 'K nearest neighbour Algorithm'\n",
      " 'K-Nearest Neighbour' 'K-nearest algorithm & collaborative filtering'\n",
      " 'KNN' 'KNN' 'LBPH (Local Binary Pattern Histogram)'\n",
      " 'Linear Regression for multiple variables' 'Linear regression'\n",
      " 'Naive Bayes' 'Naive Bayes' 'Naive Bayes Classifier'\n",
      " 'Naive Bayes, Random Forest and K-map'\n",
      " 'Natural Language Proccessing -> Naive Bayes, Decision trees.'\n",
      " 'Natural Language Processing' 'Neural Network' 'Neural Network'\n",
      " 'Neural Network, Support Vector Machine, K-Nearest Neighbour'\n",
      " 'Neural Networks, Lasso Regression' 'Neural networks' 'OpenCV ORB'\n",
      " 'OpenCV ORB' 'Optical character Recognition Algorithm'\n",
      " 'Random Forest Algorithm, Decision trees Algorithm '\n",
      " 'Random Forest, Recursive Feature Elimination, Genetic Algorithm, Corrlelation'\n",
      " 'Random forest and Decision trees algorithm' 'SVM algorithm'\n",
      " 'SVM and KNN' 'Segmentation algorithm' 'Simple Linear Regression'\n",
      " 'Support Vector Machine(SVM) Algorithm' \"Viola John's algorithm\"\n",
      " 'Viola-Jones' 'classification ' 'get_nrc_sentiment\\nnaive bayes'\n",
      " 'k nearest neighbor, Support Vector Machine and Neural Networks'\n",
      " 'naive bayes']\n"
     ]
    }
   ],
   "source": [
    "print(a)"
   ]
  },
  {
   "cell_type": "code",
   "execution_count": 30,
   "metadata": {},
   "outputs": [
    {
     "name": "stdout",
     "output_type": "stream",
     "text": [
      "[2. 1. 1. 1. 1.] 5                      Stock Market Prediction\n",
      "6    Optical recognition of handwritten digits\n",
      "7                     Diabetes Risk Prediction\n",
      "8             Stock Price prediction using Knn\n",
      "9        NLP -BASED ARTIFICIAL INTELLIGENT BOT\n",
      "Name: Topic, dtype: object\n",
      "Matlab                         2\n",
      "Anaconda 5.1,Python,Twitter    1\n",
      "R-STUDIO                       1\n",
      "Pycharm community 2018         1\n",
      "Ipython                        1\n",
      "Name: Tools used, dtype: int64\n"
     ]
    }
   ],
   "source": [
    "lst=dataset['Tools used'].value_counts()[5:10]\n",
    "it=iter(lst)\n",
    "x=np.fromiter(it,dtype=float)\n",
    "print(x,dataset['Topic'][5:10])\n",
    "print(lst)"
   ]
  },
  {
   "cell_type": "code",
   "execution_count": null,
   "metadata": {},
   "outputs": [],
   "source": []
  }
 ],
 "metadata": {
  "kernelspec": {
   "display_name": "Python 3",
   "language": "python",
   "name": "python3"
  },
  "language_info": {
   "codemirror_mode": {
    "name": "ipython",
    "version": 3
   },
   "file_extension": ".py",
   "mimetype": "text/x-python",
   "name": "python",
   "nbconvert_exporter": "python",
   "pygments_lexer": "ipython3",
   "version": "3.5.2"
  }
 },
 "nbformat": 4,
 "nbformat_minor": 2
}
