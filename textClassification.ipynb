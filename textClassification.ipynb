{
 "cells": [
  {
   "cell_type": "code",
   "execution_count": 2,
   "metadata": {},
   "outputs": [],
   "source": [
    "from textblob.classifiers import NaiveBayesClassifier\n",
    "\n",
    "train = [\n",
    "    ('House Price Prediction', 'Price'),\n",
    "    ('Social Network Ads', 'Marketing'),\n",
    "    ('Face DECTION IN GIVEN IMAGE', 'Clustering'),\n",
    "    ('Rainfall Prediction.', 'Analytics'),\n",
    "    (\"Crime Data Analysis\", 'Analytics'),\n",
    "    ('Ebola virus prediction', 'Health'),\n",
    "    (\"Face Detection \", 'Clustering'),\n",
    "\n",
    "]\n",
    "test = [\n",
    "    ('Face detection.', 'Clustering'),\n",
    "  ('Weather Prediction.', 'Analytics'),\n",
    "    (\"Crime Data Analysis\", 'Analytics'),\n",
    "    ('HIV virus prediction', 'Health'),\n",
    "    ('Hand written digits recognition','Analytics'),\n",
    "\n",
    "   \n",
    "]"
   ]
  },
  {
   "cell_type": "code",
   "execution_count": 7,
   "metadata": {},
   "outputs": [],
   "source": [
    "cl = NaiveBayesClassifier(train)"
   ]
  },
  {
   "cell_type": "code",
   "execution_count": 8,
   "metadata": {},
   "outputs": [
    {
     "data": {
      "text/plain": [
       "'Analytics'"
      ]
     },
     "execution_count": 8,
     "metadata": {},
     "output_type": "execute_result"
    }
   ],
   "source": [
    "cl.classify(\"Sentiment Analysis of textual data\")"
   ]
  },
  {
   "cell_type": "code",
   "execution_count": 6,
   "metadata": {},
   "outputs": [],
   "source": [
    "import numpy as np  # linear algebra\n",
    "import pandas as pd # data processing, CSV file I/O (e.g. pd.read_csv)\n",
    "import matplotlib.pyplot as plt  #generating graphs"
   ]
  },
  {
   "cell_type": "code",
   "execution_count": 5,
   "metadata": {},
   "outputs": [],
   "source": [
    "#Importing DataSet \n",
    "dataset = pd.read_csv(\"./Requirements Dataset.csv\")"
   ]
  },
  {
   "cell_type": "code",
   "execution_count": 9,
   "metadata": {},
   "outputs": [],
   "source": [
    "f=dataset['Topic'][1:5]"
   ]
  },
  {
   "cell_type": "code",
   "execution_count": 10,
   "metadata": {},
   "outputs": [
    {
     "name": "stdout",
     "output_type": "stream",
     "text": [
      "1    Anomaly Detection In Ship Trajectory\n",
      "2         Hand written digits recognition\n",
      "3                      Social Network Ads\n",
      "4    music classification based on lyrics\n",
      "Name: Topic, dtype: object\n"
     ]
    }
   ],
   "source": [
    "print(f)"
   ]
  },
  {
   "cell_type": "code",
   "execution_count": 11,
   "metadata": {},
   "outputs": [],
   "source": [
    "import csv\n",
    "import sys"
   ]
  },
  {
   "cell_type": "code",
   "execution_count": 13,
   "metadata": {},
   "outputs": [],
   "source": [
    "simpletext = []\n",
    "sometext= []\n",
    "with open('Requirements Dataset.csv','r') as simple:\n",
    "    sometext = csv.reader(simple)\n",
    "    for row in sometext:\n",
    "        tblb = ()\n",
    "        tblb = (row[0],row[1])\n",
    "        simpletext.append(tblb)\n",
    "    "
   ]
  },
  {
   "cell_type": "code",
   "execution_count": 14,
   "metadata": {},
   "outputs": [],
   "source": [
    "nbcl = NaiveBayesClassifier(simpletext)"
   ]
  },
  {
   "cell_type": "code",
   "execution_count": 15,
   "metadata": {},
   "outputs": [
    {
     "data": {
      "text/plain": [
       "'Detect,analyze,reduceandverifycollecteddata.'"
      ]
     },
     "execution_count": 15,
     "metadata": {},
     "output_type": "execute_result"
    }
   ],
   "source": [
    "nbcl.classify(f)"
   ]
  },
  {
   "cell_type": "code",
   "execution_count": 16,
   "metadata": {},
   "outputs": [
    {
     "name": "stdout",
     "output_type": "stream",
     "text": [
      "<NaiveBayesClassifier trained on 44 instances>\n"
     ]
    }
   ],
   "source": [
    "print(nbcl)"
   ]
  },
  {
   "cell_type": "code",
   "execution_count": null,
   "metadata": {},
   "outputs": [],
   "source": []
  }
 ],
 "metadata": {
  "kernelspec": {
   "display_name": "Python 3",
   "language": "python",
   "name": "python3"
  },
  "language_info": {
   "codemirror_mode": {
    "name": "ipython",
    "version": 3
   },
   "file_extension": ".py",
   "mimetype": "text/x-python",
   "name": "python",
   "nbconvert_exporter": "python",
   "pygments_lexer": "ipython3",
   "version": "3.5.2"
  }
 },
 "nbformat": 4,
 "nbformat_minor": 2
}
